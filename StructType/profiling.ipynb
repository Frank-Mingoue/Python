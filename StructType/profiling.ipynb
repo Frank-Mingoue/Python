{
 "cells": [
  {
   "cell_type": "code",
   "execution_count": null,
   "metadata": {},
   "outputs": [],
   "source": [
    "pip install profiling from pa,s "
   ]
  },
  {
   "cell_type": "code",
   "execution_count": null,
   "metadata": {},
   "outputs": [],
   "source": [
    "import pandas as pd\n",
    "from pandas_profiling import ProfileReport\n",
    "\n"
   ]
  },
  {
   "cell_type": "code",
   "execution_count": null,
   "metadata": {},
   "outputs": [],
   "source": [
    "df = pd.read_csv(\"raw/backup_hra/Paie/ZX35.csv\")"
   ]
  },
  {
   "cell_type": "code",
   "execution_count": null,
   "metadata": {},
   "outputs": [],
   "source": [
    "profile = ProfileReport(df)"
   ]
  },
  {
   "cell_type": "code",
   "execution_count": null,
   "metadata": {},
   "outputs": [],
   "source": [
    "type(profile)"
   ]
  },
  {
   "cell_type": "code",
   "execution_count": null,
   "metadata": {},
   "outputs": [],
   "source": [
    "profile.to_file(\"test.html\")"
   ]
  },
  {
   "cell_type": "code",
   "execution_count": null,
   "metadata": {},
   "outputs": [],
   "source": [
    "type (profile.get_description())"
   ]
  },
  {
   "cell_type": "code",
   "execution_count": null,
   "metadata": {},
   "outputs": [],
   "source": [
    "profile.get_description()"
   ]
  },
  {
   "cell_type": "code",
   "execution_count": null,
   "metadata": {},
   "outputs": [],
   "source": [
    "type (profile.get_description()[\"variables\"])"
   ]
  },
  {
   "cell_type": "code",
   "execution_count": null,
   "metadata": {},
   "outputs": [],
   "source": [
    "df_variables = pd.DataFrame(profile.get_description()[\"variables\"])"
   ]
  },
  {
   "cell_type": "code",
   "execution_count": null,
   "metadata": {},
   "outputs": [],
   "source": [
    "df_variables.to_excel(\"test.xlsx\")"
   ]
  },
  {
   "cell_type": "code",
   "execution_count": null,
   "metadata": {},
   "outputs": [],
   "source": [
    "df_variables.loc[[\"n\",\"n_missing\",\"p_missing\", \"n_distinct\", \"\"]]"
   ]
  },
  {
   "cell_type": "code",
   "execution_count": null,
   "metadata": {},
   "outputs": [],
   "source": []
  },
  {
   "cell_type": "code",
   "execution_count": null,
   "metadata": {},
   "outputs": [],
   "source": [
    "import os"
   ]
  },
  {
   "cell_type": "code",
   "execution_count": null,
   "metadata": {},
   "outputs": [],
   "source": [
    "folder_list = os.listdir(\"raw/backup_hra\")"
   ]
  },
  {
   "cell_type": "code",
   "execution_count": null,
   "metadata": {},
   "outputs": [],
   "source": [
    "for folder in folder_list :\n",
    "      folder_path = \"raw/backup_hra/\" + folder\n",
    "      file_list = os.listdir(folder_path)\n",
    "      #writer = pd.ExcelWriter(folder + \".xlsx\") \n",
    "      for file in file_list :\n",
    "            file_path = \"raw/backup_hra/\" + folder + \"/\" + file\n",
    "            df = pd.read_csv(file_path) \n",
    "            profile.to_file(folder + \"_\" + file + \".html\")  \n",
    "            with pd.ExcelWriter(folder + \".xlsx\", mode=\"a\", if_sheet_exists=\"replace\") as writer :          \n",
    "                  pd.DataFrame(profile.get_description()[\"variables\"]).loc[[\"n\",\"n_missing\",\"p_missing\", \"n_distinct\"]].transpose().to_excel(writer, file) \n",
    "         \n",
    "                  \n",
    "\n",
    "        \n"
   ]
  },
  {
   "cell_type": "code",
   "execution_count": 110,
   "metadata": {},
   "outputs": [
    {
     "name": "stderr",
     "output_type": "stream",
     "text": [
      "Export report to file: 100%|██████████| 1/1 [00:00<00:00, 29.27it/s]\n",
      "Export report to file: 100%|██████████| 1/1 [00:00<00:00, 41.51it/s]\n",
      "Export report to file: 100%|██████████| 1/1 [00:00<00:00, 32.82it/s]\n",
      "Export report to file: 100%|██████████| 1/1 [00:00<00:00, 45.67it/s]\n",
      "Export report to file: 100%|██████████| 1/1 [00:00<00:00, 47.36it/s]\n",
      "Export report to file: 100%|██████████| 1/1 [00:00<00:00, 47.23it/s]\n"
     ]
    }
   ],
   "source": [
    "for folder in folder_list :\n",
    "      folder_path = \"raw/backup_hra/\" + folder\n",
    "      file_list = os.listdir(folder_path)\n",
    "      for file in file_list :\n",
    "            file_path = \"raw/backup_hra/\" + folder + \"/\" + file\n",
    "            df = pd.read_csv(file_path) \n",
    "            profile.to_file(folder + \"_\" + file + \".html\")  \n",
    "            with pd.ExcelWriter(folder + \".xlsx\", engine =\"openpyxl\") as writer :          \n",
    "                  pd.DataFrame(profile.get_description()[\"variables\"]).loc[[\"n\",\"n_missing\",\"p_missing\", \"n_distinct\"]].transpose().to_excel(writer, sheet_name=file)\n",
    "           "
   ]
  },
  {
   "cell_type": "code",
   "execution_count": 114,
   "metadata": {},
   "outputs": [
    {
     "ename": "ModuleNotFoundError",
     "evalue": "No module named 'xlsxwriter'",
     "output_type": "error",
     "traceback": [
      "\u001b[1;31m---------------------------------------------------------------------------\u001b[0m",
      "\u001b[1;31mModuleNotFoundError\u001b[0m                       Traceback (most recent call last)",
      "\u001b[1;32mC:\\Users\\FMINGO~1.TCH\\AppData\\Local\\Temp/ipykernel_4572/2856636970.py\u001b[0m in \u001b[0;36m<module>\u001b[1;34m\u001b[0m\n\u001b[0;32m      1\u001b[0m \u001b[1;32mimport\u001b[0m \u001b[0mopenpyxl\u001b[0m\u001b[1;33m\u001b[0m\u001b[1;33m\u001b[0m\u001b[0m\n\u001b[1;32m----> 2\u001b[1;33m \u001b[1;32mimport\u001b[0m \u001b[0mxlsxwriter\u001b[0m\u001b[1;33m\u001b[0m\u001b[1;33m\u001b[0m\u001b[0m\n\u001b[0m",
      "\u001b[1;31mModuleNotFoundError\u001b[0m: No module named 'xlsxwriter'"
     ]
    }
   ],
   "source": [
    "import openpyxl\n",
    "import xlsxwriter"
   ]
  },
  {
   "cell_type": "code",
   "execution_count": null,
   "metadata": {},
   "outputs": [],
   "source": [
    "source_path = \"/dbfs\" + spark.conf.get(\"sp\")\n",
    "dest_path = source_path + \"/hra_stats\"\n",
    "folder_list = os.listdir(source_path)\n",
    "\n",
    "for folder in folder_list :\n",
    "      folder_path = source_path + \"/\" + folder\n",
    "      file_list = os.listdir(folder_path)\n",
    "      for file in file_list :\n",
    "            if folder != \"hra_stats\" : \n",
    "                  file_path = folder_path + \"/\" + file\n",
    "                  df = pd.read_csv(file_path) \n",
    "                  profile = ProfileReport(df)\n",
    "                  profile.to_file(dest_path + \"/\" + folder + \"_\" + file + \".html\")  \n",
    "                  with pd.ExcelWriter(dest_path + \"/\" + folder + \".xlsx\", mode=\"w\") as writer :          \n",
    "                       file_df = pd.DataFrame(profile.get_description()[\"variables\"]).loc[[\"n\",\"n_missing\",\"p_missing\", \"n_distinct\"]].transpose()\n",
    "                       file_df.to_excel(writer, sheet_name=file)"
   ]
  },
  {
   "cell_type": "code",
   "execution_count": 1,
   "metadata": {},
   "outputs": [
    {
     "ename": "NameError",
     "evalue": "name 'folder_list' is not defined",
     "output_type": "error",
     "traceback": [
      "\u001b[1;31m---------------------------------------------------------------------------\u001b[0m",
      "\u001b[1;31mNameError\u001b[0m                                 Traceback (most recent call last)",
      "\u001b[1;32mC:\\Users\\FMINGO~1.TCH\\AppData\\Local\\Temp/ipykernel_25868/2889947188.py\u001b[0m in \u001b[0;36m<module>\u001b[1;34m\u001b[0m\n\u001b[1;32m----> 1\u001b[1;33m \u001b[1;32mfor\u001b[0m \u001b[0mfolder\u001b[0m \u001b[1;32min\u001b[0m \u001b[0mfolder_list\u001b[0m \u001b[1;33m:\u001b[0m\u001b[1;33m\u001b[0m\u001b[1;33m\u001b[0m\u001b[0m\n\u001b[0m\u001b[0;32m      2\u001b[0m       \u001b[1;32mif\u001b[0m \u001b[0mfolder\u001b[0m \u001b[1;33m!=\u001b[0m \u001b[1;34m\"stats\"\u001b[0m \u001b[1;33m:\u001b[0m\u001b[1;33m\u001b[0m\u001b[1;33m\u001b[0m\u001b[0m\n\u001b[0;32m      3\u001b[0m             \u001b[0msource_path\u001b[0m \u001b[1;33m=\u001b[0m \u001b[1;34m\"raw/backup_hra/\"\u001b[0m \u001b[1;33m+\u001b[0m \u001b[0mfolder\u001b[0m\u001b[1;33m\u001b[0m\u001b[1;33m\u001b[0m\u001b[0m\n\u001b[0;32m      4\u001b[0m             \u001b[0mdest_path\u001b[0m \u001b[1;33m=\u001b[0m \u001b[1;34m\"raw/backup_hra/stats/\"\u001b[0m\u001b[1;33m\u001b[0m\u001b[1;33m\u001b[0m\u001b[0m\n\u001b[0;32m      5\u001b[0m             \u001b[0mfile_list\u001b[0m \u001b[1;33m=\u001b[0m \u001b[0mos\u001b[0m\u001b[1;33m.\u001b[0m\u001b[0mlistdir\u001b[0m\u001b[1;33m(\u001b[0m\u001b[0msource_path\u001b[0m\u001b[1;33m)\u001b[0m\u001b[1;33m\u001b[0m\u001b[1;33m\u001b[0m\u001b[0m\n",
      "\u001b[1;31mNameError\u001b[0m: name 'folder_list' is not defined"
     ]
    }
   ],
   "source": [
    "for folder in folder_list :\n",
    "      if folder != \"stats\" : \n",
    "            source_path = \"raw/backup_hra/\" + folder\n",
    "            dest_path = \"raw/backup_hra/stats/\"\n",
    "            file_list = os.listdir(source_path)\n",
    "            writer = pd.ExcelWriter(dest_path + folder + \".xlsx\" , engine=\"xlsxwriter\") \n",
    "            for file in file_list :\n",
    "                  file_path = \"raw/backup_hra/\" + folder + \"/\" + file\n",
    "                  df = pd.read_csv(file_path) \n",
    "                  profile.to_file(dest_path + folder + \"_\" + file + \".html\")                    \n",
    "                  pd.DataFrame(profile.get_description()[\"variables\"]).loc[[\"n\",\"n_missing\",\"p_missing\", \"n_distinct\"]].transpose().to_excel(writer, file) \n",
    "            writer.save()"
   ]
  },
  {
   "cell_type": "code",
   "execution_count": 115,
   "metadata": {},
   "outputs": [
    {
     "name": "stdout",
     "output_type": "stream",
     "text": [
      "Defaulting to user installation because normal site-packages is not writeable\n",
      "Collecting xlsxwriter\n",
      "  Downloading XlsxWriter-3.0.3-py3-none-any.whl (149 kB)\n",
      "Installing collected packages: xlsxwriter\n",
      "Successfully installed xlsxwriter-3.0.3\n",
      "Note: you may need to restart the kernel to use updated packages.\n"
     ]
    },
    {
     "name": "stderr",
     "output_type": "stream",
     "text": [
      "WARNING: You are using pip version 21.2.3; however, version 22.1.2 is available.\n",
      "You should consider upgrading via the 'c:\\Program Files\\Python310\\python.exe -m pip install --upgrade pip' command.\n"
     ]
    }
   ],
   "source": [
    "pip install xlsxwriter"
   ]
  },
  {
   "cell_type": "code",
   "execution_count": null,
   "metadata": {},
   "outputs": [],
   "source": []
  }
 ],
 "metadata": {
  "kernelspec": {
   "display_name": "Python 3.10.0 64-bit",
   "language": "python",
   "name": "python3"
  },
  "language_info": {
   "codemirror_mode": {
    "name": "ipython",
    "version": 3
   },
   "file_extension": ".py",
   "mimetype": "text/x-python",
   "name": "python",
   "nbconvert_exporter": "python",
   "pygments_lexer": "ipython3",
   "version": "3.10.0"
  },
  "orig_nbformat": 4,
  "vscode": {
   "interpreter": {
    "hash": "26de051ba29f2982a8de78e945f0abaf191376122a1563185a90213a26c5da77"
   }
  }
 },
 "nbformat": 4,
 "nbformat_minor": 2
}

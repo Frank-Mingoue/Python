{
 "cells": [
  {
   "cell_type": "code",
   "execution_count": 3,
   "metadata": {},
   "outputs": [
    {
     "name": "stdout",
     "output_type": "stream",
     "text": [
      "[44, 4, 38]\n"
     ]
    }
   ],
   "source": [
    "nombres = [1, 21, 5, 44, 4, 9, 5, 83, 29, 31, 25, 38]\n",
    "nombres_pairs = [i for i in nombres if i % 2 == 0]\n",
    "print(nombres_pairs)"
   ]
  },
  {
   "cell_type": "markdown",
   "metadata": {},
   "source": [
    "lorsqu'on a un else dans la structure on utlise le for en dernier "
   ]
  },
  {
   "cell_type": "code",
   "execution_count": 6,
   "metadata": {},
   "outputs": [
    {
     "name": "stdout",
     "output_type": "stream",
     "text": [
      "[0, -1, 2, -3, 4, -5, 6, -7, 8, -9]\n"
     ]
    }
   ],
   "source": [
    "nombres_inverse = [-i if i % 2 != 0 else i for i in range(10) ]\n",
    "print(nombres_inverse)"
   ]
  },
  {
   "cell_type": "code",
   "execution_count": 8,
   "metadata": {},
   "outputs": [
    {
     "name": "stdout",
     "output_type": "stream",
     "text": [
      "Utilisateur 1\n",
      "Utilisateur 2\n",
      "Utilisateur 3\n",
      "Utilisateur 4\n",
      "Utilisateur 5\n",
      "Utilisateur 6\n",
      "Utilisateur 7\n",
      "Utilisateur 8\n",
      "Utilisateur 9\n",
      "Utilisateur 10\n"
     ]
    }
   ],
   "source": [
    "for i in range(1, 11) :\n",
    "    print(f\"Utilisateur {i}\")\n",
    " "
   ]
  },
  {
   "cell_type": "code",
   "execution_count": null,
   "metadata": {},
   "outputs": [],
   "source": [
    "mot = list (input(\"entrer le mot : \"))\n",
    "mot.reverse()\n",
    "for item in mot :\n",
    "    print(item)\n"
   ]
  },
  {
   "cell_type": "code",
   "execution_count": null,
   "metadata": {},
   "outputs": [],
   "source": [
    "mot_2 = \"python\"\n",
    "lenght = len(mot_2) - 1\n",
    "\n",
    "for letter in  range (lenght + 1) :\n",
    "    print(mot_2[lenght])\n",
    "    lenght -= 1\n"
   ]
  },
  {
   "cell_type": "code",
   "execution_count": 25,
   "metadata": {},
   "outputs": [
    {
     "name": "stdout",
     "output_type": "stream",
     "text": [
      "n\n",
      "o\n",
      "h\n",
      "t\n",
      "y\n",
      "p\n"
     ]
    }
   ],
   "source": [
    "mot_2 = \"python\"\n",
    "lenght = len(mot_2) - 1\n",
    "\n",
    "for letter in  range (lenght, -1, -1) :\n",
    "    print(mot_2[letter])"
   ]
  },
  {
   "cell_type": "code",
   "execution_count": 26,
   "metadata": {},
   "outputs": [
    {
     "name": "stdout",
     "output_type": "stream",
     "text": [
      "on continue\n",
      "on continue\n",
      "on continue\n",
      "on est sortie\n"
     ]
    }
   ],
   "source": [
    "reponse = input(\"Continuer ? O/N\").upper()\n",
    "while reponse == \"O\" :\n",
    "    print(\"on continue\")\n",
    "    reponse = input(\"Continuer ? O/N\").upper()\n",
    "print(\"on est sortie\")"
   ]
  },
  {
   "cell_type": "code",
   "execution_count": 36,
   "metadata": {},
   "outputs": [
    {
     "name": "stdout",
     "output_type": "stream",
     "text": [
      "Le resultat de l'addition de 25 et 78 est égal à 103\n"
     ]
    }
   ],
   "source": [
    "\n",
    "def check_number (nber) : \n",
    "    if nber.isdigit() : \n",
    "        return int(nber)\n",
    "    else : \n",
    "        return  check_number(input(\"entrez un nombre valide :\"))\n",
    "\n",
    "a = check_number(input(\"entrez le premier nombre :\"))\n",
    "b = check_number(input(\"entrez le second nombre : \"))\n",
    "\n",
    "print(f\"Le resultat de l'addition de {a} et {b} est égal à {a+b}\")"
   ]
  },
  {
   "cell_type": "code",
   "execution_count": 49,
   "metadata": {},
   "outputs": [
    {
     "name": "stdout",
     "output_type": "stream",
     "text": [
      "Choissez parmi les options suivantes : \n",
      "1: Ajouter un element à la liste\n",
      "2: Retirer un element a la liste\n",
      "3: Afficher la \n",
      "4: Vider la liste\n",
      "5: Quitter\n",
      "🐍 votre choix ici : \n",
      "['1']\n"
     ]
    }
   ],
   "source": [
    "ma_liste = []\n",
    "\n",
    "Menu  = \"\"\"Choissez parmi les options suivantes : \n",
    "1: Ajouter un element à la liste\n",
    "2: Retirer un element a la liste\n",
    "3: Afficher la \n",
    "4: Vider la liste\n",
    "5: Quitter\n",
    "\\N{SNAKE} votre choix ici : \"\"\"\n",
    "\n",
    "Options = [\"1\", \"2\", \"3\", \"4\", \"5\"]\n",
    "\n",
    "\n",
    "\n",
    "def check_choice(choix) :\n",
    "    if not choix.isdigit() or choix not in Options : \n",
    "        return check_choice(input(\"veuiller enter un choix correct compris entre 1 et 5 \"))\n",
    "    else  : \n",
    "        return int(choix)\n",
    "           \n",
    "print(Menu)\n",
    "choix = check_choice(input())\n",
    "\n",
    "if choix == 1 :\n",
    "    ma_liste.append(input(\"veuiller ajouter un éléùent dans la liste\"))\n",
    "    print(ma_liste)"
   ]
  },
  {
   "cell_type": "code",
   "execution_count": 54,
   "metadata": {},
   "outputs": [
    {
     "name": "stdout",
     "output_type": "stream",
     "text": [
      "vous avez exeder vos tentatives, le nombre mistere etait 51\n"
     ]
    }
   ],
   "source": [
    "from random import randint\n",
    "Nombre_mistere = randint(0, 100)\n",
    "\n",
    "def nombre_mister(nbre, Essaies = 5 ):\n",
    "\n",
    "    if Essaies == 0 :\n",
    "        \n",
    "       print(f\"vous avez exeder vos tentatives, le nombre mistere etait {Nombre_mistere}\")\n",
    "       return\n",
    "\n",
    "    if nbre.isdigit() and int(nbre) in range (101) :\n",
    "\n",
    "        Essaies -=1\n",
    "\n",
    "        if int(nbre) < Nombre_mistere :           \n",
    "\n",
    "            return nombre_mister((input(f\" votre nombre est plus petit que le nombre mistere \\nil vous reste {Essaies} veuillez reesayer : \")),Essaies)\n",
    "\n",
    "        elif int(nbre) > Nombre_mistere : \n",
    "\n",
    "            return nombre_mister((input(f\" votre nombre est plus grand que le nombre mistere \\n il vous reste {Essaies} veuillez reesayer : \")), Essaies)\n",
    "\n",
    "        else :\n",
    "\n",
    "            print (\"bravo vous avez trouvez le nombre mistere \")\n",
    "            return\n",
    "    else : \n",
    "       return nombre_mister((input(\"veuillez entrer un nombre valide compris entre 0 et : \")))\n",
    "\n",
    "\n",
    "nombre_mister(input(\"veuillez choisir un nombre mistere entre 0 et 100\"))\n",
    "       \n"
   ]
  },
  {
   "cell_type": "code",
   "execution_count": 55,
   "metadata": {},
   "outputs": [
    {
     "data": {
      "text/plain": [
       "True"
      ]
     },
     "execution_count": 55,
     "metadata": {},
     "output_type": "execute_result"
    }
   ],
   "source": [
    "50 in range (100)"
   ]
  },
  {
   "cell_type": "code",
   "execution_count": null,
   "metadata": {},
   "outputs": [],
   "source": []
  }
 ],
 "metadata": {
  "interpreter": {
   "hash": "b3ba2566441a7c06988d0923437866b63cedc61552a5af99d1f4fb67d367b25f"
  },
  "kernelspec": {
   "display_name": "Python 3.8.8 ('base')",
   "language": "python",
   "name": "python3"
  },
  "language_info": {
   "codemirror_mode": {
    "name": "ipython",
    "version": 3
   },
   "file_extension": ".py",
   "mimetype": "text/x-python",
   "name": "python",
   "nbconvert_exporter": "python",
   "pygments_lexer": "ipython3",
   "version": "3.8.8"
  },
  "orig_nbformat": 4
 },
 "nbformat": 4,
 "nbformat_minor": 2
}

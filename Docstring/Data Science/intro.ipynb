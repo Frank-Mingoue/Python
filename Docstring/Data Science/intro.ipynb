{
 "cells": [
  {
   "cell_type": "code",
   "execution_count": null,
   "metadata": {},
   "outputs": [],
   "source": [
    "import pandas as pd "
   ]
  },
  {
   "cell_type": "code",
   "execution_count": null,
   "metadata": {},
   "outputs": [],
   "source": [
    "df = pd.read_csv(\"data.csv\")"
   ]
  },
  {
   "cell_type": "code",
   "execution_count": 12,
   "metadata": {},
   "outputs": [
    {
     "data": {
      "text/html": [
       "<div>\n",
       "<style scoped>\n",
       "    .dataframe tbody tr th:only-of-type {\n",
       "        vertical-align: middle;\n",
       "    }\n",
       "\n",
       "    .dataframe tbody tr th {\n",
       "        vertical-align: top;\n",
       "    }\n",
       "\n",
       "    .dataframe thead th {\n",
       "        text-align: right;\n",
       "    }\n",
       "</style>\n",
       "<table border=\"1\" class=\"dataframe\">\n",
       "  <thead>\n",
       "    <tr style=\"text-align: right;\">\n",
       "      <th></th>\n",
       "      <th>id</th>\n",
       "      <th>date</th>\n",
       "      <th>first_name</th>\n",
       "      <th>last_name</th>\n",
       "      <th>email</th>\n",
       "      <th>gender</th>\n",
       "      <th>ip_address</th>\n",
       "      <th>country</th>\n",
       "      <th>price_paid</th>\n",
       "      <th>tax</th>\n",
       "    </tr>\n",
       "  </thead>\n",
       "  <tbody>\n",
       "    <tr>\n",
       "      <th>0</th>\n",
       "      <td>1</td>\n",
       "      <td>03/28/2021</td>\n",
       "      <td>Marylin</td>\n",
       "      <td>Alders</td>\n",
       "      <td>malders0@shop-pro.jp</td>\n",
       "      <td>Male</td>\n",
       "      <td>160.119.8.119</td>\n",
       "      <td>Canada</td>\n",
       "      <td>$5.36</td>\n",
       "      <td>NaN</td>\n",
       "    </tr>\n",
       "    <tr>\n",
       "      <th>1</th>\n",
       "      <td>2</td>\n",
       "      <td>03/19/2021</td>\n",
       "      <td>Hinda</td>\n",
       "      <td>Harridge</td>\n",
       "      <td>hharridge1@gnu.org</td>\n",
       "      <td>Female</td>\n",
       "      <td>210.51.172.132</td>\n",
       "      <td>Canada</td>\n",
       "      <td>$8.32</td>\n",
       "      <td>NaN</td>\n",
       "    </tr>\n",
       "    <tr>\n",
       "      <th>2</th>\n",
       "      <td>3</td>\n",
       "      <td>03/17/2021</td>\n",
       "      <td>Erl</td>\n",
       "      <td>Kilminster</td>\n",
       "      <td>ekilminster2@etsy.com</td>\n",
       "      <td>Male</td>\n",
       "      <td>213.8.101.145</td>\n",
       "      <td>United States</td>\n",
       "      <td>$3.73</td>\n",
       "      <td>20.0</td>\n",
       "    </tr>\n",
       "    <tr>\n",
       "      <th>3</th>\n",
       "      <td>4</td>\n",
       "      <td>03/19/2021</td>\n",
       "      <td>Grata</td>\n",
       "      <td>Brantl</td>\n",
       "      <td>gbrantl3@umn.edu</td>\n",
       "      <td>Female</td>\n",
       "      <td>5.140.237.101</td>\n",
       "      <td>United States</td>\n",
       "      <td>$3.70</td>\n",
       "      <td>20.0</td>\n",
       "    </tr>\n",
       "    <tr>\n",
       "      <th>4</th>\n",
       "      <td>5</td>\n",
       "      <td>03/24/2021</td>\n",
       "      <td>Kanya</td>\n",
       "      <td>Beasant</td>\n",
       "      <td>kbeasant4@jigsy.com</td>\n",
       "      <td>Male</td>\n",
       "      <td>106.252.162.233</td>\n",
       "      <td>Morocco</td>\n",
       "      <td>$9.24</td>\n",
       "      <td>20.0</td>\n",
       "    </tr>\n",
       "  </tbody>\n",
       "</table>\n",
       "</div>"
      ],
      "text/plain": [
       "   id        date first_name   last_name                  email  gender  \\\n",
       "0   1  03/28/2021    Marylin      Alders   malders0@shop-pro.jp    Male   \n",
       "1   2  03/19/2021      Hinda    Harridge     hharridge1@gnu.org  Female   \n",
       "2   3  03/17/2021        Erl  Kilminster  ekilminster2@etsy.com    Male   \n",
       "3   4  03/19/2021      Grata      Brantl       gbrantl3@umn.edu  Female   \n",
       "4   5  03/24/2021      Kanya     Beasant    kbeasant4@jigsy.com    Male   \n",
       "\n",
       "        ip_address        country price_paid   tax  \n",
       "0    160.119.8.119         Canada      $5.36   NaN  \n",
       "1   210.51.172.132         Canada      $8.32   NaN  \n",
       "2    213.8.101.145  United States      $3.73  20.0  \n",
       "3    5.140.237.101  United States      $3.70  20.0  \n",
       "4  106.252.162.233        Morocco      $9.24  20.0  "
      ]
     },
     "execution_count": 12,
     "metadata": {},
     "output_type": "execute_result"
    }
   ],
   "source": [
    "df.head()"
   ]
  },
  {
   "cell_type": "code",
   "execution_count": null,
   "metadata": {},
   "outputs": [],
   "source": [
    "df.shape "
   ]
  },
  {
   "cell_type": "code",
   "execution_count": null,
   "metadata": {},
   "outputs": [],
   "source": [
    "df.columns"
   ]
  },
  {
   "cell_type": "code",
   "execution_count": null,
   "metadata": {},
   "outputs": [],
   "source": [
    "df.index"
   ]
  },
  {
   "cell_type": "code",
   "execution_count": null,
   "metadata": {},
   "outputs": [],
   "source": [
    "df.dtypes"
   ]
  },
  {
   "cell_type": "code",
   "execution_count": null,
   "metadata": {},
   "outputs": [],
   "source": [
    "df.columns.tolist()"
   ]
  },
  {
   "cell_type": "code",
   "execution_count": null,
   "metadata": {},
   "outputs": [],
   "source": [
    "list(df.columns)"
   ]
  },
  {
   "cell_type": "code",
   "execution_count": 15,
   "metadata": {},
   "outputs": [],
   "source": [
    "df.set_index(\"email\", inplace=True)"
   ]
  },
  {
   "cell_type": "code",
   "execution_count": 16,
   "metadata": {},
   "outputs": [
    {
     "data": {
      "text/plain": [
       "Index(['malders0@shop-pro.jp', 'hharridge1@gnu.org', 'ekilminster2@etsy.com',\n",
       "       'gbrantl3@umn.edu', 'kbeasant4@jigsy.com', 'tbraybrooke5@umn.edu',\n",
       "       'akencott6@phoca.cz', 'cfeasley7@ed.gov', 'wheersema8@tumblr.com',\n",
       "       'ggookes9@amazon.co.uk',\n",
       "       ...\n",
       "       'sthorburnri@prnewswire.com', 'ecrushrj@berkeley.edu',\n",
       "       'mguilloneaurk@about.me', 'osnellerl@nhs.uk',\n",
       "       'cbruntjenrm@reference.com', 'derrigorn@elpais.com',\n",
       "       'arastallro@toplist.cz', 'bstickelsrp@cloudflare.com',\n",
       "       'ptesoerq@rakuten.co.jp', 'rpringuerrr@house.gov'],\n",
       "      dtype='object', name='email', length=1000)"
      ]
     },
     "execution_count": 16,
     "metadata": {},
     "output_type": "execute_result"
    }
   ],
   "source": [
    "df.index"
   ]
  },
  {
   "cell_type": "code",
   "execution_count": 17,
   "metadata": {},
   "outputs": [
    {
     "data": {
      "text/html": [
       "<div>\n",
       "<style scoped>\n",
       "    .dataframe tbody tr th:only-of-type {\n",
       "        vertical-align: middle;\n",
       "    }\n",
       "\n",
       "    .dataframe tbody tr th {\n",
       "        vertical-align: top;\n",
       "    }\n",
       "\n",
       "    .dataframe thead th {\n",
       "        text-align: right;\n",
       "    }\n",
       "</style>\n",
       "<table border=\"1\" class=\"dataframe\">\n",
       "  <thead>\n",
       "    <tr style=\"text-align: right;\">\n",
       "      <th></th>\n",
       "      <th>id</th>\n",
       "      <th>tax</th>\n",
       "    </tr>\n",
       "  </thead>\n",
       "  <tbody>\n",
       "    <tr>\n",
       "      <th>count</th>\n",
       "      <td>1000.000000</td>\n",
       "      <td>654.0</td>\n",
       "    </tr>\n",
       "    <tr>\n",
       "      <th>mean</th>\n",
       "      <td>500.500000</td>\n",
       "      <td>20.0</td>\n",
       "    </tr>\n",
       "    <tr>\n",
       "      <th>std</th>\n",
       "      <td>288.819436</td>\n",
       "      <td>0.0</td>\n",
       "    </tr>\n",
       "    <tr>\n",
       "      <th>min</th>\n",
       "      <td>1.000000</td>\n",
       "      <td>20.0</td>\n",
       "    </tr>\n",
       "    <tr>\n",
       "      <th>25%</th>\n",
       "      <td>250.750000</td>\n",
       "      <td>20.0</td>\n",
       "    </tr>\n",
       "    <tr>\n",
       "      <th>50%</th>\n",
       "      <td>500.500000</td>\n",
       "      <td>20.0</td>\n",
       "    </tr>\n",
       "    <tr>\n",
       "      <th>75%</th>\n",
       "      <td>750.250000</td>\n",
       "      <td>20.0</td>\n",
       "    </tr>\n",
       "    <tr>\n",
       "      <th>max</th>\n",
       "      <td>1000.000000</td>\n",
       "      <td>20.0</td>\n",
       "    </tr>\n",
       "  </tbody>\n",
       "</table>\n",
       "</div>"
      ],
      "text/plain": [
       "                id    tax\n",
       "count  1000.000000  654.0\n",
       "mean    500.500000   20.0\n",
       "std     288.819436    0.0\n",
       "min       1.000000   20.0\n",
       "25%     250.750000   20.0\n",
       "50%     500.500000   20.0\n",
       "75%     750.250000   20.0\n",
       "max    1000.000000   20.0"
      ]
     },
     "execution_count": 17,
     "metadata": {},
     "output_type": "execute_result"
    }
   ],
   "source": [
    "df.describe()"
   ]
  },
  {
   "cell_type": "code",
   "execution_count": null,
   "metadata": {},
   "outputs": [],
   "source": []
  }
 ],
 "metadata": {
  "interpreter": {
   "hash": "b89b5cfaba6639976dc87ff2fec6d58faec662063367e2c229c520fe71072417"
  },
  "kernelspec": {
   "display_name": "Python 3.10.0 64-bit",
   "language": "python",
   "name": "python3"
  },
  "language_info": {
   "codemirror_mode": {
    "name": "ipython",
    "version": 3
   },
   "file_extension": ".py",
   "mimetype": "text/x-python",
   "name": "python",
   "nbconvert_exporter": "python",
   "pygments_lexer": "ipython3",
   "version": "3.10.0"
  },
  "orig_nbformat": 4
 },
 "nbformat": 4,
 "nbformat_minor": 2
}
